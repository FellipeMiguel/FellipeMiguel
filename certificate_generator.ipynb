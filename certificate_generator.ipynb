{
  "nbformat": 4,
  "nbformat_minor": 0,
  "metadata": {
    "colab": {
      "provenance": [],
      "authorship_tag": "ABX9TyOYMu4LKEi23xnHmou6/ATU",
      "include_colab_link": true
    },
    "kernelspec": {
      "name": "python3",
      "display_name": "Python 3"
    },
    "language_info": {
      "name": "python"
    }
  },
  "cells": [
    {
      "cell_type": "markdown",
      "metadata": {
        "id": "view-in-github",
        "colab_type": "text"
      },
      "source": [
        "<a href=\"https://colab.research.google.com/github/FellipeMiguel/FellipeMiguel/blob/main/certificate_generator.ipynb\" target=\"_parent\"><img src=\"https://colab.research.google.com/assets/colab-badge.svg\" alt=\"Open In Colab\"/></a>"
      ]
    },
    {
      "cell_type": "code",
      "source": [
        "from PIL import Image, ImageFont, ImageDraw\n",
        "import pandas as pd\n",
        "from io import BytesIO\n",
        "import smtplib\n",
        "from email.message import EmailMessage\n",
        "import os\n",
        "\n",
        "fonte_caminho = 'fonts/Niconne-Regular.ttf'\n",
        "FONT_COLOR = \"#26786e\"\n",
        "WIDTH, HEIGHT = 1465, 690\n",
        "\n",
        "email_sender = 'gti.sme.dev@gmail.com'\n",
        "password = 'nisf vrai jwmo enwx'\n",
        "\n",
        "def make_cert(name):\n",
        "    image_source = Image.open('certificate.jpg')\n",
        "    draw = ImageDraw.Draw(image_source)\n",
        "    font = ImageFont.truetype(fonte_caminho, 94)\n",
        "    text = name\n",
        "    text_length = draw.textlength(text, font=font)\n",
        "    text_x = (WIDTH - text_length)\n",
        "    text_y = (HEIGHT - font.size)\n",
        "    draw.text((text_x, text_y), text, fill=FONT_COLOR, font=font)\n",
        "\n",
        "    pdf_buffer = BytesIO()\n",
        "    image_source.save(pdf_buffer, format=\"PDF\")\n",
        "    pdf_buffer.seek(0)\n",
        "\n",
        "    return pdf_buffer"
      ],
      "metadata": {
        "id": "rxs8v-lQ1kp1"
      },
      "execution_count": 35,
      "outputs": []
    },
    {
      "cell_type": "code",
      "source": [
        "def send_emails(email_receiver, pdf_buffer, name):\n",
        "    msg = EmailMessage()\n",
        "    msg['Subject'] = 'Seu Certificado'\n",
        "    msg['From'] = email_sender\n",
        "    msg['To'] = email_receiver\n",
        "    msg.set_content(f'{name} Segue em anexo seu certificado.')\n",
        "\n",
        "    msg.add_attachment(pdf_buffer.read(), maintype='application', subtype='pdf', filename=f'{name}.pdf')\n",
        "\n",
        "    with smtplib.SMTP_SSL('smtp.gmail.com', 465) as smtp:\n",
        "        smtp.login(email_sender, password)\n",
        "        smtp.send_message(msg)\n",
        "\n",
        "    print(f'Email enviado com sucesso para: {email_receiver}')"
      ],
      "metadata": {
        "id": "70r89jqfSJsL"
      },
      "execution_count": 36,
      "outputs": []
    },
    {
      "cell_type": "code",
      "source": [
        "df = pd.read_excel('names.xlsx')\n",
        "names = df['Name'].tolist()\n",
        "emails = df['Email'].tolist()\n",
        "\n",
        "for name, email in zip(names, emails):\n",
        "    pdf_buffer = make_cert(name)\n",
        "\n",
        "    with open(f\"./out/{name}.pdf\", \"wb\") as pdf_file:\n",
        "        pdf_file.write(pdf_buffer.getvalue())\n",
        "        print(\"Certificado criado\")\n",
        "\n",
        "    send_emails(email, pdf_buffer, name)"
      ],
      "metadata": {
        "colab": {
          "base_uri": "https://localhost:8080/"
        },
        "id": "Z7HVTzCLSMxa",
        "outputId": "5815986f-e2e2-4d2b-92ff-731170fccf38"
      },
      "execution_count": 37,
      "outputs": [
        {
          "output_type": "stream",
          "name": "stdout",
          "text": [
            "Certificado criado\n",
            "Email enviado com sucesso para: ailtonbok@hotmail.com\n",
            "Certificado criado\n",
            "Email enviado com sucesso para: slmh235@gmail.com\n",
            "Certificado criado\n",
            "Email enviado com sucesso para: fellipemigueldev@gmail.com\n",
            "Certificado criado\n",
            "Email enviado com sucesso para: rodrigorodriguesml@gmail.com\n",
            "Certificado criado\n",
            "Email enviado com sucesso para: jvoliveira0104@gmail.com\n",
            "Certificado criado\n",
            "Email enviado com sucesso para: pedro.emanuel1780@gmail.com\n",
            "Certificado criado\n",
            "Email enviado com sucesso para: andreewaramys@gmail.com\n",
            "Certificado criado\n",
            "Email enviado com sucesso para: russianedacosta@gmail.com\n",
            "Certificado criado\n",
            "Email enviado com sucesso para: biologia.paulo@gmail.com\n",
            "Certificado criado\n",
            "Email enviado com sucesso para: renatalarissa060@gmail.com\n",
            "Certificado criado\n",
            "Email enviado com sucesso para: rodrigocnascimento@hotmail.com\n",
            "Certificado criado\n",
            "Email enviado com sucesso para: proinfoparnamirim@gmail.com\n",
            "Certificado criado\n",
            "Email enviado com sucesso para: ste.parnamirim@gmail.com\n",
            "Certificado criado\n",
            "Email enviado com sucesso para: simongoncalvescosta@gmail.com\n"
          ]
        }
      ]
    }
  ]
}